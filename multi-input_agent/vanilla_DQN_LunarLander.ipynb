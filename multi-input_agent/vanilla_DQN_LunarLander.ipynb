{
  "cells": [
    {
      "cell_type": "markdown",
      "source": [
        "Notebook taken from:\n",
        " \n",
        "https://goodboychan.github.io/python/reinforcement_learning/pytorch/udacity/2021/05/07/DQN-LunarLander.html\n",
        "\n",
        "https://github.com/goodboychan/goodboychan.github.io/blob/main/_notebooks/2021-05-07-DQN-LunarLander.ipynb"
      ],
      "metadata": {
        "id": "6yC3JxTV6PGV"
      },
      "id": "6yC3JxTV6PGV"
    },
    {
      "cell_type": "markdown",
      "id": "c3e89aca-6c52-4b20-b1a3-9279ef0fd99b",
      "metadata": {
        "id": "c3e89aca-6c52-4b20-b1a3-9279ef0fd99b"
      },
      "source": [
        "# Deep Q-Network (DQN) on LunarLander-v2\n",
        "\n",
        "> In this post, We will take a hands-on-lab of Simple Deep Q-Network (DQN) on openAI LunarLander-v2 environment. This is the coding exercise from udacity Deep Reinforcement Learning Nanodegree.\n",
        "\n",
        "- toc: true \n",
        "- badges: true\n",
        "- comments: true\n",
        "- author: Chanseok Kang\n",
        "- categories: [Python, Reinforcement_Learning, PyTorch, Udacity]\n",
        "- image: images/LunarLander-v2.gif"
      ]
    },
    {
      "cell_type": "markdown",
      "id": "fd834f1b-51c4-4910-a4d6-3b212e1a2a5a",
      "metadata": {
        "id": "fd834f1b-51c4-4910-a4d6-3b212e1a2a5a"
      },
      "source": [
        "## Deep Q-Network (DQN)\n",
        "---\n",
        "In this notebook, you will implement a DQN agent with OpenAI Gym's LunarLander-v2 environment.\n",
        "\n",
        "### Import the Necessary Packages"
      ]
    },
    {
      "cell_type": "code",
      "execution_count": 1,
      "id": "22518486-3c2f-47fe-92b3-1502875eacfe",
      "metadata": {
        "id": "22518486-3c2f-47fe-92b3-1502875eacfe"
      },
      "outputs": [],
      "source": [
        "import gym\n",
        "import random\n",
        "import torch\n",
        "import torch.nn as nn\n",
        "import torch.nn.functional as F\n",
        "import torch.optim as optim\n",
        "import matplotlib.pyplot as plt\n",
        "import base64, io\n",
        "\n",
        "import numpy as np\n",
        "from collections import deque, namedtuple\n",
        "\n",
        "# For visualization\n",
        "from gym.wrappers.monitoring import video_recorder\n",
        "from IPython.display import HTML\n",
        "from IPython import display \n",
        "import glob"
      ]
    },
    {
      "cell_type": "code",
      "source": [
        "!pip install gym[box2d]"
      ],
      "metadata": {
        "colab": {
          "base_uri": "https://localhost:8080/"
        },
        "id": "psSXNNCyaCNx",
        "outputId": "813ed730-4f2b-4a28-b1c0-8ff12126ed3c"
      },
      "id": "psSXNNCyaCNx",
      "execution_count": 3,
      "outputs": [
        {
          "output_type": "stream",
          "name": "stderr",
          "text": [
            "/usr/local/lib/python3.9/dist-packages/ipykernel/ipkernel.py:283: DeprecationWarning: `should_run_async` will not call `transform_cell` automatically in the future. Please pass the result to `transformed_cell` argument and any exception that happen during thetransform in `preprocessing_exc_tuple` in IPython 7.17 and above.\n",
            "  and should_run_async(code)\n"
          ]
        },
        {
          "output_type": "stream",
          "name": "stdout",
          "text": [
            "Looking in indexes: https://pypi.org/simple, https://us-python.pkg.dev/colab-wheels/public/simple/\n",
            "Requirement already satisfied: gym[box2d] in /usr/local/lib/python3.9/dist-packages (0.25.2)\n",
            "Requirement already satisfied: cloudpickle>=1.2.0 in /usr/local/lib/python3.9/dist-packages (from gym[box2d]) (2.2.1)\n",
            "Requirement already satisfied: importlib-metadata>=4.8.0 in /usr/local/lib/python3.9/dist-packages (from gym[box2d]) (6.6.0)\n",
            "Requirement already satisfied: numpy>=1.18.0 in /usr/local/lib/python3.9/dist-packages (from gym[box2d]) (1.22.4)\n",
            "Requirement already satisfied: gym-notices>=0.0.4 in /usr/local/lib/python3.9/dist-packages (from gym[box2d]) (0.0.8)\n",
            "Collecting swig==4.*\n",
            "  Downloading swig-4.1.1-py2.py3-none-manylinux_2_5_x86_64.manylinux1_x86_64.whl (1.8 MB)\n",
            "\u001b[2K     \u001b[90m━━━━━━━━━━━━━━━━━━━━━━━━━━━━━━━━━━━━━━━━\u001b[0m \u001b[32m1.8/1.8 MB\u001b[0m \u001b[31m48.7 MB/s\u001b[0m eta \u001b[36m0:00:00\u001b[0m\n",
            "\u001b[?25hCollecting box2d-py==2.3.5\n",
            "  Downloading box2d-py-2.3.5.tar.gz (374 kB)\n",
            "\u001b[2K     \u001b[90m━━━━━━━━━━━━━━━━━━━━━━━━━━━━━━━━━━━━━━\u001b[0m \u001b[32m374.4/374.4 kB\u001b[0m \u001b[31m34.6 MB/s\u001b[0m eta \u001b[36m0:00:00\u001b[0m\n",
            "\u001b[?25h  Preparing metadata (setup.py) ... \u001b[?25l\u001b[?25hdone\n",
            "Collecting pygame==2.1.0\n",
            "  Downloading pygame-2.1.0-cp39-cp39-manylinux_2_17_x86_64.manylinux2014_x86_64.whl (18.3 MB)\n",
            "\u001b[2K     \u001b[90m━━━━━━━━━━━━━━━━━━━━━━━━━━━━━━━━━━━━━━━━\u001b[0m \u001b[32m18.3/18.3 MB\u001b[0m \u001b[31m88.4 MB/s\u001b[0m eta \u001b[36m0:00:00\u001b[0m\n",
            "\u001b[?25hRequirement already satisfied: zipp>=0.5 in /usr/local/lib/python3.9/dist-packages (from importlib-metadata>=4.8.0->gym[box2d]) (3.15.0)\n",
            "Building wheels for collected packages: box2d-py\n",
            "  \u001b[1;31merror\u001b[0m: \u001b[1msubprocess-exited-with-error\u001b[0m\n",
            "  \n",
            "  \u001b[31m×\u001b[0m \u001b[32mpython setup.py bdist_wheel\u001b[0m did not run successfully.\n",
            "  \u001b[31m│\u001b[0m exit code: \u001b[1;36m1\u001b[0m\n",
            "  \u001b[31m╰─>\u001b[0m See above for output.\n",
            "  \n",
            "  \u001b[1;35mnote\u001b[0m: This error originates from a subprocess, and is likely not a problem with pip.\n",
            "  Building wheel for box2d-py (setup.py) ... \u001b[?25lerror\n",
            "\u001b[31m  ERROR: Failed building wheel for box2d-py\u001b[0m\u001b[31m\n",
            "\u001b[0m\u001b[?25h  Running setup.py clean for box2d-py\n",
            "Failed to build box2d-py\n",
            "Installing collected packages: swig, box2d-py, pygame\n",
            "  Running setup.py install for box2d-py ... \u001b[?25l\u001b[?25hdone\n",
            "\u001b[33m  DEPRECATION: box2d-py was installed using the legacy 'setup.py install' method, because a wheel could not be built for it. pip 23.1 will enforce this behaviour change. A possible replacement is to fix the wheel build issue reported above. Discussion can be found at https://github.com/pypa/pip/issues/8368\u001b[0m\u001b[33m\n",
            "\u001b[0m  Attempting uninstall: pygame\n",
            "    Found existing installation: pygame 2.3.0\n",
            "    Uninstalling pygame-2.3.0:\n",
            "      Successfully uninstalled pygame-2.3.0\n",
            "Successfully installed box2d-py-2.3.5 pygame-2.1.0 swig-4.1.1\n"
          ]
        }
      ]
    },
    {
      "cell_type": "markdown",
      "id": "f75f934c-6921-43aa-8389-6df4b993eca4",
      "metadata": {
        "id": "f75f934c-6921-43aa-8389-6df4b993eca4"
      },
      "source": [
        "### Instantiate the Environment and Agent\n",
        "\n",
        "Initialize the environment."
      ]
    },
    {
      "cell_type": "code",
      "execution_count": 4,
      "id": "594828b6-da33-481d-ab42-041e8c17ffea",
      "metadata": {
        "colab": {
          "base_uri": "https://localhost:8080/"
        },
        "id": "594828b6-da33-481d-ab42-041e8c17ffea",
        "outputId": "b7a1f716-9913-4df2-84ae-1f7d2bc7cff9"
      },
      "outputs": [
        {
          "output_type": "stream",
          "name": "stdout",
          "text": [
            "State shape:  (8,)\n",
            "Number of actions:  4\n"
          ]
        },
        {
          "output_type": "stream",
          "name": "stderr",
          "text": [
            "/usr/local/lib/python3.9/dist-packages/gym/core.py:317: DeprecationWarning: \u001b[33mWARN: Initializing wrapper in old step API which returns one bool instead of two. It is recommended to set `new_step_api=True` to use new step API. This will be the default behaviour in future.\u001b[0m\n",
            "  deprecation(\n",
            "/usr/local/lib/python3.9/dist-packages/gym/wrappers/step_api_compatibility.py:39: DeprecationWarning: \u001b[33mWARN: Initializing environment in old step API which returns one bool instead of two. It is recommended to set `new_step_api=True` to use new step API. This will be the default behaviour in future.\u001b[0m\n",
            "  deprecation(\n",
            "/usr/local/lib/python3.9/dist-packages/gym/core.py:256: DeprecationWarning: \u001b[33mWARN: Function `env.seed(seed)` is marked as deprecated and will be removed in the future. Please use `env.reset(seed=seed)` instead.\u001b[0m\n",
            "  deprecation(\n"
          ]
        }
      ],
      "source": [
        "env = gym.make('LunarLander-v2')\n",
        "env.seed(0)\n",
        "print('State shape: ', env.observation_space.shape)\n",
        "print('Number of actions: ', env.action_space.n)"
      ]
    },
    {
      "cell_type": "markdown",
      "id": "03735bdc-c07e-4c87-b208-cce894bb8e43",
      "metadata": {
        "id": "03735bdc-c07e-4c87-b208-cce894bb8e43"
      },
      "source": [
        "### Define Neural Network Architecture.\n",
        "\n",
        "Since `LunarLander-v2` environment is sort of simple envs, we don't need complicated architecture. We just need non-linear function approximator that maps from state to action."
      ]
    },
    {
      "cell_type": "code",
      "execution_count": 5,
      "id": "ae834607-433e-4ed5-8b23-8de7b53230a8",
      "metadata": {
        "id": "ae834607-433e-4ed5-8b23-8de7b53230a8"
      },
      "outputs": [],
      "source": [
        "class QNetwork(nn.Module):\n",
        "    \"\"\"Actor (Policy) Model.\"\"\"\n",
        "\n",
        "    def __init__(self, state_size, action_size, seed):\n",
        "        \"\"\"Initialize parameters and build model.\n",
        "        Params\n",
        "        ======\n",
        "            state_size (int): Dimension of each state\n",
        "            action_size (int): Dimension of each action\n",
        "            seed (int): Random seed\n",
        "        \"\"\"\n",
        "        super(QNetwork, self).__init__()\n",
        "        self.seed = torch.manual_seed(seed)\n",
        "        self.fc1 = nn.Linear(state_size, 64)\n",
        "        self.fc2 = nn.Linear(64, 64)\n",
        "        self.fc3 = nn.Linear(64, action_size)\n",
        "        \n",
        "    def forward(self, state):\n",
        "        \"\"\"Build a network that maps state -> action values.\"\"\"\n",
        "        x = self.fc1(state)\n",
        "        x = F.relu(x)\n",
        "        x = self.fc2(x)\n",
        "        x = F.relu(x)\n",
        "        return self.fc3(x)"
      ]
    },
    {
      "cell_type": "markdown",
      "id": "b0873298-cab0-4dcb-9c84-4782dc914dd7",
      "metadata": {
        "id": "b0873298-cab0-4dcb-9c84-4782dc914dd7"
      },
      "source": [
        "### Define some hyperparameter"
      ]
    },
    {
      "cell_type": "code",
      "execution_count": 10,
      "id": "7010c525-29d8-445c-8769-6cfb7d00948b",
      "metadata": {
        "id": "7010c525-29d8-445c-8769-6cfb7d00948b"
      },
      "outputs": [],
      "source": [
        "BUFFER_SIZE = 4500  # replay buffer size\n",
        "BATCH_SIZE = 128         # minibatch size\n",
        "GAMMA = 0.99            # discount factor\n",
        "TAU = 1.              # for soft update of target parameters\n",
        "LR = 2.5e-4               # learning rate \n",
        "UPDATE_EVERY = 10        # how often to update the network"
      ]
    },
    {
      "cell_type": "code",
      "execution_count": 11,
      "id": "334bb7d8-7d62-4cfb-96f7-f8809ba8e089",
      "metadata": {
        "id": "334bb7d8-7d62-4cfb-96f7-f8809ba8e089"
      },
      "outputs": [],
      "source": [
        "device = torch.device(\"cuda:0\" if torch.cuda.is_available() else \"cpu\")"
      ]
    },
    {
      "cell_type": "markdown",
      "id": "1d861efe-200c-4690-9698-722abbf0b77c",
      "metadata": {
        "id": "1d861efe-200c-4690-9698-722abbf0b77c"
      },
      "source": [
        "### Define Agent "
      ]
    },
    {
      "cell_type": "code",
      "execution_count": 12,
      "id": "0530f456-2bfd-4061-ad62-f14846a9a284",
      "metadata": {
        "id": "0530f456-2bfd-4061-ad62-f14846a9a284"
      },
      "outputs": [],
      "source": [
        "class Agent():\n",
        "    \"\"\"Interacts with and learns from the environment.\"\"\"\n",
        "\n",
        "    def __init__(self, state_size, action_size, seed):\n",
        "        \"\"\"Initialize an Agent object.\n",
        "        \n",
        "        Params\n",
        "        ======\n",
        "            state_size (int): dimension of each state\n",
        "            action_size (int): dimension of each action\n",
        "            seed (int): random seed\n",
        "        \"\"\"\n",
        "        self.state_size = state_size\n",
        "        self.action_size = action_size\n",
        "        self.seed = random.seed(seed)\n",
        "\n",
        "        # Q-Network\n",
        "        self.qnetwork_local = QNetwork(state_size, action_size, seed).to(device)\n",
        "        self.qnetwork_target = QNetwork(state_size, action_size, seed).to(device)\n",
        "        self.optimizer = optim.Adam(self.qnetwork_local.parameters(), lr=LR)\n",
        "\n",
        "        # Replay memory\n",
        "        self.memory = ReplayBuffer(action_size, BUFFER_SIZE, BATCH_SIZE, seed)\n",
        "        # Initialize time step (for updating every UPDATE_EVERY steps)\n",
        "        self.t_step = 0\n",
        "    \n",
        "    def step(self, state, action, reward, next_state, done):\n",
        "        # Save experience in replay memory\n",
        "        self.memory.add(state, action, reward, next_state, done)\n",
        "        \n",
        "        # Learn every UPDATE_EVERY time steps.\n",
        "        self.t_step = (self.t_step + 1) % UPDATE_EVERY\n",
        "        if self.t_step == 0:\n",
        "            # If enough samples are available in memory, get random subset and learn\n",
        "            if len(self.memory) > BATCH_SIZE:\n",
        "                experiences = self.memory.sample()\n",
        "                self.learn(experiences, GAMMA)\n",
        "\n",
        "    def act(self, state, eps=0.):\n",
        "        \"\"\"Returns actions for given state as per current policy.\n",
        "        \n",
        "        Params\n",
        "        ======\n",
        "            state (array_like): current state\n",
        "            eps (float): epsilon, for epsilon-greedy action selection\n",
        "        \"\"\"\n",
        "        state = torch.from_numpy(state).float().unsqueeze(0).to(device)\n",
        "        self.qnetwork_local.eval()\n",
        "        with torch.no_grad():\n",
        "            action_values = self.qnetwork_local(state)\n",
        "        self.qnetwork_local.train()\n",
        "\n",
        "        # Epsilon-greedy action selection\n",
        "        if random.random() > eps:\n",
        "            return np.argmax(action_values.cpu().data.numpy())\n",
        "        else:\n",
        "            return random.choice(np.arange(self.action_size))\n",
        "\n",
        "    def learn(self, experiences, gamma):\n",
        "        \"\"\"Update value parameters using given batch of experience tuples.\n",
        "\n",
        "        Params\n",
        "        ======\n",
        "            experiences (Tuple[torch.Variable]): tuple of (s, a, r, s', done) tuples \n",
        "            gamma (float): discount factor\n",
        "        \"\"\"\n",
        "        # Obtain random minibatch of tuples from D\n",
        "        states, actions, rewards, next_states, dones = experiences\n",
        "\n",
        "        ## Compute and minimize the loss\n",
        "        ### Extract next maximum estimated value from target network\n",
        "        q_targets_next = self.qnetwork_target(next_states).detach().max(1)[0].unsqueeze(1)\n",
        "        ### Calculate target value from bellman equation\n",
        "        q_targets = rewards + gamma * q_targets_next * (1 - dones)\n",
        "        ### Calculate expected value from local network\n",
        "        q_expected = self.qnetwork_local(states).gather(1, actions)\n",
        "        \n",
        "        ### Loss calculation (we used Mean squared error)\n",
        "        loss = F.mse_loss(q_expected, q_targets)\n",
        "        self.optimizer.zero_grad()\n",
        "        loss.backward()\n",
        "        self.optimizer.step()\n",
        "\n",
        "        # ------------------- update target network ------------------- #\n",
        "        self.soft_update(self.qnetwork_local, self.qnetwork_target, TAU)                     \n",
        "\n",
        "    def soft_update(self, local_model, target_model, tau):\n",
        "        \"\"\"Soft update model parameters.\n",
        "        θ_target = τ*θ_local + (1 - τ)*θ_target\n",
        "\n",
        "        Params\n",
        "        ======\n",
        "            local_model (PyTorch model): weights will be copied from\n",
        "            target_model (PyTorch model): weights will be copied to\n",
        "            tau (float): interpolation parameter \n",
        "        \"\"\"\n",
        "        for target_param, local_param in zip(target_model.parameters(), local_model.parameters()):\n",
        "            target_param.data.copy_(tau*local_param.data + (1.0-tau)*target_param.data)"
      ]
    },
    {
      "cell_type": "markdown",
      "id": "4eb5db66-ecb3-4bf4-aee1-3e18003c17b0",
      "metadata": {
        "id": "4eb5db66-ecb3-4bf4-aee1-3e18003c17b0"
      },
      "source": [
        "### Define Replay Buffer"
      ]
    },
    {
      "cell_type": "code",
      "execution_count": 13,
      "id": "f74bb08e-0b95-42db-9fc8-d609514d55af",
      "metadata": {
        "id": "f74bb08e-0b95-42db-9fc8-d609514d55af"
      },
      "outputs": [],
      "source": [
        "class ReplayBuffer:\n",
        "    \"\"\"Fixed-size buffer to store experience tuples.\"\"\"\n",
        "\n",
        "    def __init__(self, action_size, buffer_size, batch_size, seed):\n",
        "        \"\"\"Initialize a ReplayBuffer object.\n",
        "\n",
        "        Params\n",
        "        ======\n",
        "            action_size (int): dimension of each action\n",
        "            buffer_size (int): maximum size of buffer\n",
        "            batch_size (int): size of each training batch\n",
        "            seed (int): random seed\n",
        "        \"\"\"\n",
        "        self.action_size = action_size\n",
        "        self.memory = deque(maxlen=buffer_size)  \n",
        "        self.batch_size = batch_size\n",
        "        self.experience = namedtuple(\"Experience\", field_names=[\"state\", \"action\", \"reward\", \"next_state\", \"done\"])\n",
        "        self.seed = random.seed(seed)\n",
        "    \n",
        "    def add(self, state, action, reward, next_state, done):\n",
        "        \"\"\"Add a new experience to memory.\"\"\"\n",
        "        e = self.experience(state, action, reward, next_state, done)\n",
        "        self.memory.append(e)\n",
        "    \n",
        "    def sample(self):\n",
        "        \"\"\"Randomly sample a batch of experiences from memory.\"\"\"\n",
        "        experiences = random.sample(self.memory, k=self.batch_size)\n",
        "\n",
        "        states = torch.from_numpy(np.vstack([e.state for e in experiences if e is not None])).float().to(device)\n",
        "        actions = torch.from_numpy(np.vstack([e.action for e in experiences if e is not None])).long().to(device)\n",
        "        rewards = torch.from_numpy(np.vstack([e.reward for e in experiences if e is not None])).float().to(device)\n",
        "        next_states = torch.from_numpy(np.vstack([e.next_state for e in experiences if e is not None])).float().to(device)\n",
        "        dones = torch.from_numpy(np.vstack([e.done for e in experiences if e is not None]).astype(np.uint8)).float().to(device)\n",
        "  \n",
        "        return (states, actions, rewards, next_states, dones)\n",
        "\n",
        "    def __len__(self):\n",
        "        \"\"\"Return the current size of internal memory.\"\"\"\n",
        "        return len(self.memory)"
      ]
    },
    {
      "cell_type": "markdown",
      "id": "6bd61b8d-b63e-444f-9cb7-6295df46995d",
      "metadata": {
        "id": "6bd61b8d-b63e-444f-9cb7-6295df46995d"
      },
      "source": [
        "### Training Process"
      ]
    },
    {
      "cell_type": "code",
      "execution_count": 19,
      "id": "c907ab57-ed48-4824-b27c-8c7d707d6919",
      "metadata": {
        "colab": {
          "base_uri": "https://localhost:8080/"
        },
        "id": "c907ab57-ed48-4824-b27c-8c7d707d6919",
        "outputId": "b04872c3-0d05-42e2-b29d-094ae29dade5"
      },
      "outputs": [
        {
          "output_type": "stream",
          "name": "stdout",
          "text": [
            "Episode 100\tAverage Score: -220.94\n",
            "Episode 200\tAverage Score: -164.16\n",
            "Episode 300\tAverage Score: -120.17\n",
            "Episode 400\tAverage Score: -34.88\n",
            "Episode 500\tAverage Score: 3.79\n",
            "Episode 600\tAverage Score: -6.72\n",
            "Episode 700\tAverage Score: 6.17\n",
            "Episode 800\tAverage Score: 10.72\n",
            "Episode 900\tAverage Score: -27.52\n",
            "Episode 1000\tAverage Score: 14.43\n",
            "Episode 1100\tAverage Score: 1.26\n",
            "Episode 1200\tAverage Score: -6.29\n",
            "Episode 1300\tAverage Score: 0.62\n",
            "Episode 1400\tAverage Score: 10.00\n",
            "Episode 1500\tAverage Score: 4.14\n",
            "Episode 1600\tAverage Score: 5.36\n",
            "Episode 1700\tAverage Score: 5.64\n",
            "Episode 1800\tAverage Score: -0.46\n",
            "Episode 1900\tAverage Score: 6.88\n",
            "Episode 2000\tAverage Score: 7.33\n",
            "Episode 2100\tAverage Score: 10.68\n",
            "Episode 2200\tAverage Score: 7.41\n",
            "Episode 2300\tAverage Score: -2.35\n",
            "Episode 2400\tAverage Score: -4.35\n",
            "Episode 2500\tAverage Score: -11.12\n",
            "Episode 2600\tAverage Score: 0.32\n",
            "Episode 2700\tAverage Score: 8.72\n",
            "Episode 2800\tAverage Score: 6.99\n",
            "Episode 2900\tAverage Score: 17.08\n",
            "Episode 3000\tAverage Score: 9.64\n",
            "Episode 3100\tAverage Score: 2.96\n",
            "Episode 3200\tAverage Score: 2.42\n",
            "Episode 3300\tAverage Score: 5.11\n",
            "Episode 3400\tAverage Score: 5.35\n",
            "Episode 3500\tAverage Score: 8.52\n",
            "Episode 3600\tAverage Score: 8.03\n",
            "Episode 3700\tAverage Score: 2.59\n",
            "Episode 3800\tAverage Score: 6.78\n",
            "Episode 3900\tAverage Score: 9.98\n",
            "Episode 4000\tAverage Score: 15.70\n",
            "Episode 4100\tAverage Score: 14.80\n",
            "Episode 4200\tAverage Score: 12.88\n",
            "Episode 4300\tAverage Score: 14.85\n",
            "Episode 4400\tAverage Score: 5.04\n",
            "Episode 4500\tAverage Score: -3.58\n",
            "Episode 4600\tAverage Score: -1.92\n",
            "Episode 4700\tAverage Score: 3.33\n",
            "Episode 4800\tAverage Score: 2.55\n",
            "Episode 4900\tAverage Score: -1.17\n",
            "Episode 5000\tAverage Score: 6.93\n",
            "Episode 5100\tAverage Score: 5.93\n",
            "Episode 5200\tAverage Score: 1.62\n",
            "Episode 5300\tAverage Score: 0.03\n",
            "Episode 5400\tAverage Score: 2.86\n",
            "Episode 5500\tAverage Score: 3.91\n",
            "Episode 5600\tAverage Score: -0.43\n",
            "Episode 5700\tAverage Score: -0.47\n",
            "Episode 5800\tAverage Score: -2.67\n",
            "Episode 5900\tAverage Score: 3.99\n",
            "Episode 6000\tAverage Score: 5.13\n",
            "Episode 6100\tAverage Score: 3.71\n",
            "Episode 6200\tAverage Score: 0.15\n",
            "Episode 6300\tAverage Score: -1.19\n",
            "Episode 6400\tAverage Score: 2.19\n",
            "Episode 6500\tAverage Score: 0.54\n",
            "Episode 6600\tAverage Score: 1.88\n",
            "Episode 6700\tAverage Score: -0.87\n",
            "Episode 6800\tAverage Score: 4.33\n",
            "Episode 6900\tAverage Score: 1.34\n",
            "Episode 7000\tAverage Score: 1.53\n",
            "Episode 7100\tAverage Score: 0.79\n",
            "Episode 7200\tAverage Score: 1.30\n",
            "Episode 7300\tAverage Score: 3.04\n",
            "Episode 7400\tAverage Score: 6.03\n",
            "Episode 7500\tAverage Score: 4.42\n",
            "Episode 7600\tAverage Score: 5.99\n",
            "Episode 7700\tAverage Score: 3.95\n",
            "Episode 7800\tAverage Score: 1.22\n",
            "Episode 7900\tAverage Score: 2.45\n",
            "Episode 8000\tAverage Score: 3.42\n",
            "Episode 8100\tAverage Score: 0.74\n",
            "Episode 8200\tAverage Score: 0.65\n",
            "Episode 8300\tAverage Score: 1.88\n",
            "Episode 8400\tAverage Score: 1.13\n",
            "Episode 8500\tAverage Score: 5.71\n",
            "Episode 8600\tAverage Score: 2.84\n",
            "Episode 8700\tAverage Score: 0.38\n",
            "Episode 8800\tAverage Score: 1.62\n",
            "Episode 8900\tAverage Score: 1.51\n",
            "Episode 9000\tAverage Score: 4.06\n",
            "Episode 9100\tAverage Score: 5.43\n",
            "Episode 9200\tAverage Score: 1.01\n",
            "Episode 9300\tAverage Score: 3.14\n",
            "Episode 9400\tAverage Score: 5.16\n",
            "Episode 9500\tAverage Score: 1.22\n",
            "Episode 9600\tAverage Score: 0.66\n",
            "Episode 9700\tAverage Score: 5.96\n",
            "Episode 9800\tAverage Score: 5.36\n",
            "Episode 9900\tAverage Score: 2.27\n",
            "Episode 10000\tAverage Score: 4.61\n",
            "Episode 10100\tAverage Score: 2.58\n",
            "Episode 10200\tAverage Score: -0.71\n",
            "Episode 10300\tAverage Score: 1.58\n",
            "Episode 10400\tAverage Score: 4.80\n",
            "Episode 10500\tAverage Score: 2.15\n",
            "Episode 10600\tAverage Score: 2.85\n",
            "Episode 10700\tAverage Score: 2.56\n",
            "Episode 10800\tAverage Score: 1.76\n",
            "Episode 10900\tAverage Score: 2.28\n",
            "Episode 11000\tAverage Score: -0.97\n",
            "Episode 11100\tAverage Score: 3.46\n",
            "Episode 11200\tAverage Score: 1.18\n",
            "Episode 11300\tAverage Score: 0.26\n",
            "Episode 11400\tAverage Score: 0.00\n",
            "Episode 11500\tAverage Score: 1.14\n",
            "Episode 11600\tAverage Score: 2.76\n",
            "Episode 11700\tAverage Score: 1.54\n",
            "Episode 11800\tAverage Score: -2.41\n",
            "Episode 11900\tAverage Score: 0.87\n",
            "Episode 12000\tAverage Score: -1.05\n",
            "Episode 12100\tAverage Score: 0.45\n",
            "Episode 12200\tAverage Score: -1.11\n",
            "Episode 12300\tAverage Score: 3.50\n",
            "Episode 12400\tAverage Score: 0.96\n",
            "Episode 12500\tAverage Score: 1.36\n",
            "Episode 12600\tAverage Score: 2.04\n",
            "Episode 12700\tAverage Score: -0.11\n",
            "Episode 12800\tAverage Score: 5.20\n",
            "Episode 12900\tAverage Score: 0.78\n",
            "Episode 13000\tAverage Score: -0.04\n",
            "Episode 13100\tAverage Score: 2.49\n",
            "Episode 13200\tAverage Score: 0.53\n",
            "Episode 13300\tAverage Score: 0.00\n",
            "Episode 13400\tAverage Score: 1.31\n",
            "Episode 13500\tAverage Score: 0.68\n",
            "Episode 13600\tAverage Score: 4.26\n",
            "Episode 13700\tAverage Score: -0.14\n",
            "Episode 13800\tAverage Score: 0.25\n",
            "Episode 13900\tAverage Score: 2.83\n",
            "Episode 14000\tAverage Score: 4.68\n",
            "Episode 14100\tAverage Score: 0.17\n",
            "Episode 14200\tAverage Score: 1.29\n",
            "Episode 14300\tAverage Score: 0.30\n",
            "Episode 14400\tAverage Score: 0.37\n",
            "Episode 14500\tAverage Score: 2.81\n",
            "Episode 14600\tAverage Score: 2.07\n",
            "Episode 14700\tAverage Score: 0.41\n",
            "Episode 14800\tAverage Score: 0.17\n",
            "Episode 14900\tAverage Score: -1.52\n",
            "Episode 15000\tAverage Score: 0.36\n",
            "Episode 15100\tAverage Score: -2.35\n",
            "Episode 15200\tAverage Score: -1.32\n",
            "Episode 15300\tAverage Score: -1.39\n",
            "Episode 15400\tAverage Score: 1.17\n",
            "Episode 15500\tAverage Score: 1.50\n",
            "Episode 15600\tAverage Score: 4.15\n",
            "Episode 15700\tAverage Score: 1.09\n",
            "Episode 15800\tAverage Score: 4.16\n",
            "Episode 15900\tAverage Score: -0.36\n",
            "Episode 16000\tAverage Score: -0.45\n",
            "Episode 16100\tAverage Score: -4.12\n",
            "Episode 16200\tAverage Score: 0.72\n",
            "Episode 16300\tAverage Score: 0.73\n",
            "Episode 16400\tAverage Score: -2.12\n",
            "Episode 16500\tAverage Score: 3.05\n",
            "Episode 16600\tAverage Score: 0.82\n",
            "Episode 16700\tAverage Score: 3.76\n",
            "Episode 16800\tAverage Score: 1.30\n",
            "Episode 16900\tAverage Score: 4.56\n",
            "Episode 17000\tAverage Score: 1.72\n",
            "Episode 17100\tAverage Score: 1.28\n",
            "Episode 17200\tAverage Score: -2.25\n",
            "Episode 17300\tAverage Score: -1.78\n",
            "Episode 17400\tAverage Score: -1.05\n",
            "Episode 17500\tAverage Score: -2.61\n",
            "Episode 17600\tAverage Score: 0.46\n",
            "Episode 17700\tAverage Score: -3.30\n",
            "Episode 17800\tAverage Score: 0.20\n",
            "Episode 17900\tAverage Score: -1.61\n",
            "Episode 18000\tAverage Score: 0.85\n",
            "Episode 18100\tAverage Score: 2.69\n",
            "Episode 18200\tAverage Score: 0.08\n",
            "Episode 18300\tAverage Score: -2.38\n",
            "Episode 18400\tAverage Score: 1.75\n",
            "Episode 18500\tAverage Score: 4.18\n",
            "Episode 18600\tAverage Score: 0.15\n",
            "Episode 18700\tAverage Score: -0.17\n",
            "Episode 18800\tAverage Score: 0.15\n",
            "Episode 18900\tAverage Score: 0.38\n",
            "Episode 19000\tAverage Score: 1.95\n",
            "Episode 19100\tAverage Score: 3.12\n",
            "Episode 19200\tAverage Score: 1.05\n",
            "Episode 19300\tAverage Score: 2.78\n",
            "Episode 19400\tAverage Score: 0.02\n",
            "Episode 19500\tAverage Score: -1.56\n",
            "Episode 19600\tAverage Score: -3.24\n",
            "Episode 19700\tAverage Score: -1.87\n",
            "Episode 19800\tAverage Score: 2.56\n",
            "Episode 19900\tAverage Score: 4.42\n",
            "Episode 20000\tAverage Score: 3.10\n",
            "Episode 20100\tAverage Score: 0.39\n",
            "Episode 20200\tAverage Score: -0.95\n",
            "Episode 20300\tAverage Score: 3.57\n",
            "Episode 20400\tAverage Score: 3.17\n",
            "Episode 20500\tAverage Score: 2.04\n",
            "Episode 20600\tAverage Score: -0.23\n",
            "Episode 20700\tAverage Score: 0.17\n",
            "Episode 20800\tAverage Score: -2.78\n",
            "Episode 20900\tAverage Score: -0.16\n",
            "Episode 21000\tAverage Score: 0.09\n",
            "Episode 21100\tAverage Score: -2.70\n",
            "Episode 21200\tAverage Score: -2.64\n",
            "Episode 21300\tAverage Score: 1.47\n",
            "Episode 21400\tAverage Score: 1.92\n",
            "Episode 21500\tAverage Score: -0.28\n",
            "Episode 21600\tAverage Score: 3.01\n",
            "Episode 21700\tAverage Score: 0.95\n",
            "Episode 21800\tAverage Score: 3.15\n",
            "Episode 21900\tAverage Score: 1.86\n",
            "Episode 22000\tAverage Score: -0.40\n",
            "Episode 22100\tAverage Score: -2.99\n",
            "Episode 22200\tAverage Score: 3.55\n",
            "Episode 22300\tAverage Score: -1.26\n",
            "Episode 22400\tAverage Score: 0.72\n",
            "Episode 22500\tAverage Score: -0.40\n",
            "Episode 22600\tAverage Score: 4.46\n",
            "Episode 22700\tAverage Score: 5.11\n",
            "Episode 22800\tAverage Score: -0.11\n",
            "Episode 22900\tAverage Score: 1.69\n",
            "Episode 23000\tAverage Score: 2.49\n",
            "Episode 23100\tAverage Score: -0.79\n",
            "Episode 23200\tAverage Score: 3.51\n",
            "Episode 23300\tAverage Score: 2.85\n",
            "Episode 23400\tAverage Score: 5.99\n",
            "Episode 23500\tAverage Score: 2.05\n",
            "Episode 23600\tAverage Score: 2.38\n",
            "Episode 23700\tAverage Score: 1.56\n",
            "Episode 23800\tAverage Score: 2.23\n",
            "Episode 23900\tAverage Score: -1.96\n",
            "Episode 24000\tAverage Score: 1.93\n",
            "Episode 24100\tAverage Score: 3.48\n",
            "Episode 24200\tAverage Score: 1.81\n",
            "Episode 24300\tAverage Score: 1.21\n",
            "Episode 24400\tAverage Score: 1.83\n",
            "Episode 24500\tAverage Score: -0.35\n",
            "Episode 24600\tAverage Score: 2.91\n",
            "Episode 24700\tAverage Score: 4.22\n",
            "Episode 24800\tAverage Score: 1.50\n",
            "Episode 24900\tAverage Score: -2.00\n",
            "Episode 25000\tAverage Score: -1.24\n",
            "Episode 25100\tAverage Score: -0.44\n",
            "Episode 25200\tAverage Score: 1.08\n",
            "Episode 25300\tAverage Score: 1.05\n",
            "Episode 25400\tAverage Score: -0.09\n",
            "Episode 25500\tAverage Score: 2.28\n",
            "Episode 25600\tAverage Score: 4.29\n",
            "Episode 25700\tAverage Score: 2.71\n",
            "Episode 25800\tAverage Score: -0.94\n",
            "Episode 25900\tAverage Score: 1.82\n",
            "Episode 26000\tAverage Score: 1.88\n",
            "Episode 26100\tAverage Score: 2.61\n",
            "Episode 26200\tAverage Score: 0.78\n",
            "Episode 26300\tAverage Score: -0.03\n",
            "Episode 26400\tAverage Score: -0.12\n",
            "Episode 26500\tAverage Score: -2.24\n",
            "Episode 26600\tAverage Score: 1.43\n",
            "Episode 26700\tAverage Score: 0.95\n",
            "Episode 26800\tAverage Score: -0.10\n",
            "Episode 26900\tAverage Score: 1.39\n",
            "Episode 27000\tAverage Score: 2.42\n",
            "Episode 27100\tAverage Score: -0.42\n",
            "Episode 27200\tAverage Score: -5.23\n",
            "Episode 27300\tAverage Score: -1.86\n",
            "Episode 27400\tAverage Score: 3.92\n",
            "Episode 27500\tAverage Score: 0.24\n",
            "Episode 27600\tAverage Score: 2.69\n",
            "Episode 27700\tAverage Score: 4.70\n",
            "Episode 27800\tAverage Score: 4.97\n",
            "Episode 27900\tAverage Score: 6.30\n",
            "Episode 28000\tAverage Score: 8.49\n",
            "Episode 28100\tAverage Score: 1.54\n",
            "Episode 28200\tAverage Score: 2.52\n",
            "Episode 28300\tAverage Score: 2.20\n",
            "Episode 28400\tAverage Score: 3.91\n",
            "Episode 28500\tAverage Score: 3.38\n",
            "Episode 28600\tAverage Score: 4.33\n",
            "Episode 28700\tAverage Score: 5.50\n",
            "Episode 28800\tAverage Score: -1.16\n",
            "Episode 28900\tAverage Score: -1.57\n",
            "Episode 29000\tAverage Score: 3.34\n",
            "Episode 29100\tAverage Score: 3.45\n",
            "Episode 29200\tAverage Score: 3.13\n",
            "Episode 29300\tAverage Score: 6.70\n",
            "Episode 29400\tAverage Score: 4.48\n",
            "Episode 29500\tAverage Score: 3.04\n",
            "Episode 29600\tAverage Score: 2.35\n",
            "Episode 29700\tAverage Score: 8.18\n",
            "Episode 29800\tAverage Score: 7.51\n",
            "Episode 29900\tAverage Score: 2.14\n",
            "Episode 30000\tAverage Score: 4.77\n",
            "Episode 30100\tAverage Score: 5.72\n",
            "Episode 30200\tAverage Score: 4.93\n",
            "Episode 30300\tAverage Score: 1.36\n",
            "Episode 30400\tAverage Score: 8.29\n",
            "Episode 30500\tAverage Score: 20.95\n",
            "Episode 30600\tAverage Score: 13.73\n",
            "Episode 30700\tAverage Score: 16.06\n",
            "Episode 30800\tAverage Score: 13.57\n",
            "Episode 30900\tAverage Score: 12.40\n",
            "Episode 31000\tAverage Score: 5.85\n",
            "Episode 31100\tAverage Score: 9.78\n",
            "Episode 31200\tAverage Score: 11.99\n",
            "Episode 31300\tAverage Score: 13.19\n",
            "Episode 31400\tAverage Score: 10.16\n",
            "Episode 31500\tAverage Score: 14.74\n",
            "Episode 31600\tAverage Score: 17.57\n",
            "Episode 31700\tAverage Score: 18.34\n",
            "Episode 31800\tAverage Score: 17.59\n",
            "Episode 31900\tAverage Score: 16.86\n",
            "Episode 32000\tAverage Score: 25.30\n",
            "Episode 32100\tAverage Score: 22.90\n",
            "Episode 32200\tAverage Score: 25.67\n",
            "Episode 32300\tAverage Score: 23.06\n",
            "Episode 32400\tAverage Score: 7.51\n",
            "Episode 32500\tAverage Score: 8.04\n",
            "Episode 32600\tAverage Score: 11.33\n",
            "Episode 32700\tAverage Score: 14.56\n",
            "Episode 32800\tAverage Score: 7.41\n",
            "Episode 32900\tAverage Score: 5.51\n",
            "Episode 33000\tAverage Score: 15.12\n",
            "Episode 33100\tAverage Score: 16.93\n",
            "Episode 33200\tAverage Score: 13.78\n",
            "Episode 33300\tAverage Score: 7.67\n",
            "Episode 33400\tAverage Score: 13.04\n",
            "Episode 33500\tAverage Score: 9.41\n",
            "Episode 33600\tAverage Score: 12.08\n",
            "Episode 33700\tAverage Score: 10.29\n",
            "Episode 33800\tAverage Score: 10.26\n",
            "Episode 33900\tAverage Score: 13.46\n",
            "Episode 34000\tAverage Score: 19.22\n",
            "Episode 34100\tAverage Score: 13.76\n",
            "Episode 34200\tAverage Score: 10.61\n",
            "Episode 34300\tAverage Score: 14.02\n",
            "Episode 34400\tAverage Score: 14.79\n",
            "Episode 34500\tAverage Score: 13.47\n",
            "Episode 34600\tAverage Score: 15.69\n",
            "Episode 34700\tAverage Score: 16.30\n",
            "Episode 34800\tAverage Score: 16.13\n",
            "Episode 34900\tAverage Score: 16.10\n",
            "Episode 35000\tAverage Score: 18.37\n",
            "Episode 35100\tAverage Score: 26.80\n",
            "Episode 35200\tAverage Score: 22.41\n",
            "Episode 35300\tAverage Score: 19.95\n",
            "Episode 35400\tAverage Score: 22.63\n",
            "Episode 35500\tAverage Score: 34.85\n",
            "Episode 35600\tAverage Score: 15.81\n",
            "Episode 35700\tAverage Score: 21.60\n",
            "Episode 35800\tAverage Score: 22.74\n",
            "Episode 35900\tAverage Score: 22.35\n",
            "Episode 36000\tAverage Score: 24.81\n",
            "Episode 36100\tAverage Score: 21.40\n",
            "Episode 36200\tAverage Score: 22.80\n",
            "Episode 36300\tAverage Score: 21.91\n",
            "Episode 36400\tAverage Score: 25.81\n",
            "Episode 36500\tAverage Score: 37.16\n",
            "Episode 36600\tAverage Score: 42.75\n",
            "Episode 36700\tAverage Score: 28.11\n",
            "Episode 36800\tAverage Score: 23.38\n",
            "Episode 36900\tAverage Score: 27.80\n",
            "Episode 37000\tAverage Score: 30.94\n",
            "Episode 37100\tAverage Score: 52.51\n",
            "Episode 37200\tAverage Score: 47.40\n",
            "Episode 37300\tAverage Score: 46.07\n",
            "Episode 37400\tAverage Score: 47.45\n",
            "Episode 37500\tAverage Score: 48.04\n",
            "Episode 37600\tAverage Score: 46.65\n",
            "Episode 37700\tAverage Score: 46.16\n",
            "Episode 37800\tAverage Score: 40.28\n",
            "Episode 37900\tAverage Score: 32.99\n",
            "Episode 38000\tAverage Score: 38.93\n"
          ]
        }
      ],
      "source": [
        "def dqn(n_episodes=38000, max_t=100, eps_start=1.0, eps_end=0.05, eps_decay=0.5):\n",
        "    \"\"\"Deep Q-Learning.\n",
        "    \n",
        "    Params\n",
        "    ======\n",
        "        n_episodes (int): maximum number of training episodes\n",
        "        max_t (int): maximum number of timesteps per episode\n",
        "        eps_start (float): starting value of epsilon, for epsilon-greedy action selection\n",
        "        eps_end (float): minimum value of epsilon\n",
        "        eps_decay (float): multiplicative factor (per episode) for decreasing epsilon\n",
        "    \"\"\"\n",
        "    scores = []                        # list containing scores from each episode\n",
        "    scores_window = deque(maxlen=100)  # last 100 scores\n",
        "    eps = eps_start                    # initialize epsilon\n",
        "    for i_episode in range(1, n_episodes+1):\n",
        "        state = env.reset()\n",
        "        score = 0\n",
        "        for t in range(max_t):\n",
        "            action = agent.act(state, eps)\n",
        "            next_state, reward, done, _ = env.step(action)\n",
        "            agent.step(state, action, reward, next_state, done)\n",
        "            state = next_state\n",
        "            score += reward\n",
        "            if done:\n",
        "                break \n",
        "        scores_window.append(score)       # save most recent score\n",
        "        scores.append(score)              # save most recent score\n",
        "        eps = max(eps_end, eps_decay*eps) # decrease epsilon\n",
        "        print('\\rEpisode {}\\tAverage Score: {:.2f}'.format(i_episode, np.mean(scores_window)), end=\"\")\n",
        "        if i_episode % 100 == 0:\n",
        "            print('\\rEpisode {}\\tAverage Score: {:.2f}'.format(i_episode, np.mean(scores_window)))\n",
        "        if np.mean(scores_window)>=200.0:\n",
        "            print('\\nEnvironment solved in {:d} episodes!\\tAverage Score: {:.2f}'.format(i_episode-100, np.mean(scores_window)))\n",
        "            torch.save(agent.qnetwork_local.state_dict(), 'checkpoint.pth')\n",
        "            break\n",
        "    return scores\n",
        "\n",
        "agent = Agent(state_size=8, action_size=4, seed=0)\n",
        "scores = dqn()"
      ]
    },
    {
      "cell_type": "markdown",
      "id": "1ba6726a-977a-4345-8897-021302bfc262",
      "metadata": {
        "id": "1ba6726a-977a-4345-8897-021302bfc262"
      },
      "source": [
        "### Plot the learning progress"
      ]
    },
    {
      "cell_type": "code",
      "execution_count": 20,
      "id": "d2d491c9-a5dc-4c32-a95d-796f85c60c83",
      "metadata": {
        "colab": {
          "base_uri": "https://localhost:8080/",
          "height": 449
        },
        "id": "d2d491c9-a5dc-4c32-a95d-796f85c60c83",
        "outputId": "227e6569-eae6-46cb-b6f6-e541d5267cc1"
      },
      "outputs": [
        {
          "output_type": "display_data",
          "data": {
            "text/plain": [
              "<Figure size 640x480 with 1 Axes>"
            ],
            "image/png": "[encoded data removed]"
          },
          "metadata": {}
        }
      ],
      "source": [
        "# plot the scores\n",
        "fig = plt.figure()\n",
        "ax = fig.add_subplot(111)\n",
        "plt.plot(np.arange(len(scores)), scores)\n",
        "plt.ylabel('Score')\n",
        "plt.xlabel('Episode #')\n",
        "plt.show()\n"
      ]
    },
    {
      "cell_type": "code",
      "source": [
        "import pandas as pd\n",
        "\n",
        "data = pd.DataFrame({'episode_steps':np.arange(len(scores)), 'scores':scores}, columns = ['episode_steps', 'scores'])\n",
        "print(data)\n",
        "data.to_csv('baseDQN2.csv', index=False)"
      ],
      "metadata": {
        "colab": {
          "base_uri": "https://localhost:8080/"
        },
        "id": "vmtBNH0adzUb",
        "outputId": "6f021264-b915-45fa-fa6f-b3ef0f4e6870"
      },
      "id": "vmtBNH0adzUb",
      "execution_count": 22,
      "outputs": [
        {
          "output_type": "stream",
          "name": "stdout",
          "text": [
            "       episode_steps      scores\n",
            "0                  0  -82.250345\n",
            "1                  1 -140.060600\n",
            "2                  2 -170.584923\n",
            "3                  3  -93.638024\n",
            "4                  4  -79.518310\n",
            "...              ...         ...\n",
            "37995          37995   56.687272\n",
            "37996          37996   37.388846\n",
            "37997          37997   18.558067\n",
            "37998          37998   49.978755\n",
            "37999          37999   44.534431\n",
            "\n",
            "[38000 rows x 2 columns]\n"
          ]
        }
      ]
    },
    {
      "cell_type": "markdown",
      "id": "ebb450a9-c530-4f10-b629-53a2d69860c2",
      "metadata": {
        "id": "ebb450a9-c530-4f10-b629-53a2d69860c2"
      },
      "source": [
        "### Animate it with Video"
      ]
    },
    {
      "cell_type": "code",
      "execution_count": null,
      "id": "c9806a31-f777-468e-8987-0139708ef532",
      "metadata": {
        "id": "c9806a31-f777-468e-8987-0139708ef532"
      },
      "outputs": [],
      "source": [
        "def show_video(env_name):\n",
        "    mp4list = glob.glob('video/*.mp4')\n",
        "    if len(mp4list) > 0:\n",
        "        mp4 = 'video/{}.mp4'.format(env_name)\n",
        "        video = io.open(mp4, 'r+b').read()\n",
        "        encoded = base64.b64encode(video)\n",
        "        display.display(HTML(data='''<video alt=\"test\" autoplay \n",
        "                loop controls style=\"height: 400px;\">\n",
        "                <source src=\"data:video/mp4;base64,{0}\" type=\"video/mp4\" />\n",
        "             </video>'''.format(encoded.decode('ascii'))))\n",
        "    else:\n",
        "        print(\"Could not find video\")\n",
        "        \n",
        "def show_video_of_model(agent, env_name):\n",
        "    env = gym.make(env_name)\n",
        "    vid = video_recorder.VideoRecorder(env, path=\"video/{}.mp4\".format(env_name))\n",
        "    agent.qnetwork_local.load_state_dict(torch.load('checkpoint.pth'))\n",
        "    state = env.reset()\n",
        "    done = False\n",
        "    while not done:\n",
        "        frame = env.render(mode='rgb_array')\n",
        "        vid.capture_frame()\n",
        "        \n",
        "        action = agent.act(state)\n",
        "\n",
        "        state, reward, done, _ = env.step(action)        \n",
        "    env.close()"
      ]
    },
    {
      "cell_type": "code",
      "execution_count": null,
      "id": "4beb1d45-ab9a-4fd7-a769-017bbf1672e1",
      "metadata": {
        "id": "4beb1d45-ab9a-4fd7-a769-017bbf1672e1"
      },
      "outputs": [],
      "source": [
        "agent = Agent(state_size=8, action_size=4, seed=0)\n",
        "show_video_of_model(agent, 'LunarLander-v2')"
      ]
    },
    {
      "cell_type": "code",
      "execution_count": null,
      "id": "f54ee0a0-265b-4161-bbb6-25e28543aa2e",
      "metadata": {
        "id": "f54ee0a0-265b-4161-bbb6-25e28543aa2e",
        "outputId": "f150c45f-08f6-41a0-8868-c102d43a1649"
      },
      "outputs": [
        {
          "data": {
            "text/html": [
              "<video alt=\"test\" autoplay \n",
              "                loop controls style=\"height: 400px;\">\n",
              "                <source src=\"data:video/mp4;base64,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\" type=\"video/mp4\" />\n",
              "             </video>"
            ],
            "text/plain": [
              "<IPython.core.display.HTML object>"
            ]
          },
          "metadata": {},
          "output_type": "display_data"
        }
      ],
      "source": [
        "show_video('LunarLander-v2')"
      ]
    }
  ],
  "metadata": {
    "kernelspec": {
      "display_name": "Python 3",
      "language": "python",
      "name": "python3"
    },
    "language_info": {
      "codemirror_mode": {
        "name": "ipython",
        "version": 3
      },
      "file_extension": ".py",
      "mimetype": "text/x-python",
      "name": "python",
      "nbconvert_exporter": "python",
      "pygments_lexer": "ipython3",
      "version": "3.7.10"
    },
    "colab": {
      "provenance": []
    }
  },
  "nbformat": 4,
  "nbformat_minor": 5
}